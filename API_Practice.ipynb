{
 "cells": [
  {
   "cell_type": "markdown",
   "metadata": {},
   "source": [
    "סעיף 1+2"
   ]
  },
  {
   "cell_type": "markdown",
   "metadata": {},
   "source": [
    "NAME- Yakir Attias"
   ]
  },
  {
   "cell_type": "code",
   "execution_count": 13,
   "metadata": {
    "tags": []
   },
   "outputs": [
    {
     "name": "stdout",
     "output_type": "stream",
     "text": [
      "True\n"
     ]
    },
    {
     "data": {
      "text/plain": [
       "200"
      ]
     },
     "execution_count": 13,
     "metadata": {},
     "output_type": "execute_result"
    }
   ],
   "source": [
    "import pandas as pd\n",
    "import requests\n",
    "import json\n",
    "resp=requests.get(\"https://datausa.io/api/data?drilldowns=State&measures=Population\")\n",
    "print(resp.ok)\n",
    "resp.status_code"
   ]
  },
  {
   "cell_type": "markdown",
   "metadata": {},
   "source": [
    "סעיף 3"
   ]
  },
  {
   "cell_type": "code",
   "execution_count": 14,
   "metadata": {},
   "outputs": [
    {
     "data": {
      "text/html": [
       "<div>\n",
       "<style scoped>\n",
       "    .dataframe tbody tr th:only-of-type {\n",
       "        vertical-align: middle;\n",
       "    }\n",
       "\n",
       "    .dataframe tbody tr th {\n",
       "        vertical-align: top;\n",
       "    }\n",
       "\n",
       "    .dataframe thead th {\n",
       "        text-align: right;\n",
       "    }\n",
       "</style>\n",
       "<table border=\"1\" class=\"dataframe\">\n",
       "  <thead>\n",
       "    <tr style=\"text-align: right;\">\n",
       "      <th></th>\n",
       "      <th>ID State</th>\n",
       "      <th>State</th>\n",
       "      <th>ID Year</th>\n",
       "      <th>Year</th>\n",
       "      <th>Population</th>\n",
       "      <th>Slug State</th>\n",
       "    </tr>\n",
       "  </thead>\n",
       "  <tbody>\n",
       "    <tr>\n",
       "      <th>0</th>\n",
       "      <td>04000US01</td>\n",
       "      <td>Alabama</td>\n",
       "      <td>2020</td>\n",
       "      <td>2020</td>\n",
       "      <td>4893186</td>\n",
       "      <td>alabama</td>\n",
       "    </tr>\n",
       "    <tr>\n",
       "      <th>1</th>\n",
       "      <td>04000US02</td>\n",
       "      <td>Alaska</td>\n",
       "      <td>2020</td>\n",
       "      <td>2020</td>\n",
       "      <td>736990</td>\n",
       "      <td>alaska</td>\n",
       "    </tr>\n",
       "    <tr>\n",
       "      <th>2</th>\n",
       "      <td>04000US04</td>\n",
       "      <td>Arizona</td>\n",
       "      <td>2020</td>\n",
       "      <td>2020</td>\n",
       "      <td>7174064</td>\n",
       "      <td>arizona</td>\n",
       "    </tr>\n",
       "    <tr>\n",
       "      <th>3</th>\n",
       "      <td>04000US05</td>\n",
       "      <td>Arkansas</td>\n",
       "      <td>2020</td>\n",
       "      <td>2020</td>\n",
       "      <td>3011873</td>\n",
       "      <td>arkansas</td>\n",
       "    </tr>\n",
       "    <tr>\n",
       "      <th>4</th>\n",
       "      <td>04000US06</td>\n",
       "      <td>California</td>\n",
       "      <td>2020</td>\n",
       "      <td>2020</td>\n",
       "      <td>39346023</td>\n",
       "      <td>california</td>\n",
       "    </tr>\n",
       "    <tr>\n",
       "      <th>...</th>\n",
       "      <td>...</td>\n",
       "      <td>...</td>\n",
       "      <td>...</td>\n",
       "      <td>...</td>\n",
       "      <td>...</td>\n",
       "      <td>...</td>\n",
       "    </tr>\n",
       "    <tr>\n",
       "      <th>411</th>\n",
       "      <td>04000US53</td>\n",
       "      <td>Washington</td>\n",
       "      <td>2013</td>\n",
       "      <td>2013</td>\n",
       "      <td>6819579</td>\n",
       "      <td>washington</td>\n",
       "    </tr>\n",
       "    <tr>\n",
       "      <th>412</th>\n",
       "      <td>04000US54</td>\n",
       "      <td>West Virginia</td>\n",
       "      <td>2013</td>\n",
       "      <td>2013</td>\n",
       "      <td>1853619</td>\n",
       "      <td>west-virginia</td>\n",
       "    </tr>\n",
       "    <tr>\n",
       "      <th>413</th>\n",
       "      <td>04000US55</td>\n",
       "      <td>Wisconsin</td>\n",
       "      <td>2013</td>\n",
       "      <td>2013</td>\n",
       "      <td>5706871</td>\n",
       "      <td>wisconsin</td>\n",
       "    </tr>\n",
       "    <tr>\n",
       "      <th>414</th>\n",
       "      <td>04000US56</td>\n",
       "      <td>Wyoming</td>\n",
       "      <td>2013</td>\n",
       "      <td>2013</td>\n",
       "      <td>570134</td>\n",
       "      <td>wyoming</td>\n",
       "    </tr>\n",
       "    <tr>\n",
       "      <th>415</th>\n",
       "      <td>04000US72</td>\n",
       "      <td>Puerto Rico</td>\n",
       "      <td>2013</td>\n",
       "      <td>2013</td>\n",
       "      <td>3682966</td>\n",
       "      <td>puerto-rico</td>\n",
       "    </tr>\n",
       "  </tbody>\n",
       "</table>\n",
       "<p>416 rows × 6 columns</p>\n",
       "</div>"
      ],
      "text/plain": [
       "      ID State          State  ID Year  Year  Population     Slug State\n",
       "0    04000US01        Alabama     2020  2020     4893186        alabama\n",
       "1    04000US02         Alaska     2020  2020      736990         alaska\n",
       "2    04000US04        Arizona     2020  2020     7174064        arizona\n",
       "3    04000US05       Arkansas     2020  2020     3011873       arkansas\n",
       "4    04000US06     California     2020  2020    39346023     california\n",
       "..         ...            ...      ...   ...         ...            ...\n",
       "411  04000US53     Washington     2013  2013     6819579     washington\n",
       "412  04000US54  West Virginia     2013  2013     1853619  west-virginia\n",
       "413  04000US55      Wisconsin     2013  2013     5706871      wisconsin\n",
       "414  04000US56        Wyoming     2013  2013      570134        wyoming\n",
       "415  04000US72    Puerto Rico     2013  2013     3682966    puerto-rico\n",
       "\n",
       "[416 rows x 6 columns]"
      ]
     },
     "execution_count": 14,
     "metadata": {},
     "output_type": "execute_result"
    }
   ],
   "source": [
    "output=resp.json()\n",
    "new_output=output['data']\n",
    "new_output\n",
    "\n",
    "df=pd.DataFrame(new_output)\n",
    "df"
   ]
  },
  {
   "cell_type": "code",
   "execution_count": 15,
   "metadata": {},
   "outputs": [
    {
     "data": {
      "text/plain": [
       "ID State      object\n",
       "State         object\n",
       "ID Year        int64\n",
       "Year          object\n",
       "Population     int64\n",
       "Slug State    object\n",
       "dtype: object"
      ]
     },
     "execution_count": 15,
     "metadata": {},
     "output_type": "execute_result"
    }
   ],
   "source": [
    "df.dtypes   #ניתן לראות כי העמודה של השנים היא אובייקט ולא נומרית לכן נשנה אותה לנומרית בקטע קוד הבא "
   ]
  },
  {
   "cell_type": "code",
   "execution_count": 16,
   "metadata": {},
   "outputs": [
    {
     "data": {
      "text/plain": [
       "ID State      object\n",
       "State         object\n",
       "ID Year        int64\n",
       "Year           int64\n",
       "Population     int64\n",
       "Slug State    object\n",
       "dtype: object"
      ]
     },
     "execution_count": 16,
     "metadata": {},
     "output_type": "execute_result"
    }
   ],
   "source": [
    "df['Year'] = pd.to_numeric(df['Year'], errors='coerce') \n",
    "\n",
    "df.dtypes  "
   ]
  },
  {
   "cell_type": "markdown",
   "metadata": {},
   "source": [
    "סעיף 4"
   ]
  },
  {
   "cell_type": "code",
   "execution_count": 17,
   "metadata": {},
   "outputs": [
    {
     "data": {
      "text/html": [
       "<div>\n",
       "<style scoped>\n",
       "    .dataframe tbody tr th:only-of-type {\n",
       "        vertical-align: middle;\n",
       "    }\n",
       "\n",
       "    .dataframe tbody tr th {\n",
       "        vertical-align: top;\n",
       "    }\n",
       "\n",
       "    .dataframe thead th {\n",
       "        text-align: right;\n",
       "    }\n",
       "</style>\n",
       "<table border=\"1\" class=\"dataframe\">\n",
       "  <thead>\n",
       "    <tr style=\"text-align: right;\">\n",
       "      <th></th>\n",
       "      <th>ID State</th>\n",
       "      <th>State</th>\n",
       "      <th>Year</th>\n",
       "      <th>Population</th>\n",
       "    </tr>\n",
       "  </thead>\n",
       "  <tbody>\n",
       "    <tr>\n",
       "      <th>0</th>\n",
       "      <td>04000US01</td>\n",
       "      <td>Alabama</td>\n",
       "      <td>2020</td>\n",
       "      <td>4893186</td>\n",
       "    </tr>\n",
       "    <tr>\n",
       "      <th>1</th>\n",
       "      <td>04000US02</td>\n",
       "      <td>Alaska</td>\n",
       "      <td>2020</td>\n",
       "      <td>736990</td>\n",
       "    </tr>\n",
       "    <tr>\n",
       "      <th>2</th>\n",
       "      <td>04000US04</td>\n",
       "      <td>Arizona</td>\n",
       "      <td>2020</td>\n",
       "      <td>7174064</td>\n",
       "    </tr>\n",
       "    <tr>\n",
       "      <th>3</th>\n",
       "      <td>04000US05</td>\n",
       "      <td>Arkansas</td>\n",
       "      <td>2020</td>\n",
       "      <td>3011873</td>\n",
       "    </tr>\n",
       "    <tr>\n",
       "      <th>4</th>\n",
       "      <td>04000US06</td>\n",
       "      <td>California</td>\n",
       "      <td>2020</td>\n",
       "      <td>39346023</td>\n",
       "    </tr>\n",
       "    <tr>\n",
       "      <th>...</th>\n",
       "      <td>...</td>\n",
       "      <td>...</td>\n",
       "      <td>...</td>\n",
       "      <td>...</td>\n",
       "    </tr>\n",
       "    <tr>\n",
       "      <th>411</th>\n",
       "      <td>04000US53</td>\n",
       "      <td>Washington</td>\n",
       "      <td>2013</td>\n",
       "      <td>6819579</td>\n",
       "    </tr>\n",
       "    <tr>\n",
       "      <th>412</th>\n",
       "      <td>04000US54</td>\n",
       "      <td>West Virginia</td>\n",
       "      <td>2013</td>\n",
       "      <td>1853619</td>\n",
       "    </tr>\n",
       "    <tr>\n",
       "      <th>413</th>\n",
       "      <td>04000US55</td>\n",
       "      <td>Wisconsin</td>\n",
       "      <td>2013</td>\n",
       "      <td>5706871</td>\n",
       "    </tr>\n",
       "    <tr>\n",
       "      <th>414</th>\n",
       "      <td>04000US56</td>\n",
       "      <td>Wyoming</td>\n",
       "      <td>2013</td>\n",
       "      <td>570134</td>\n",
       "    </tr>\n",
       "    <tr>\n",
       "      <th>415</th>\n",
       "      <td>04000US72</td>\n",
       "      <td>Puerto Rico</td>\n",
       "      <td>2013</td>\n",
       "      <td>3682966</td>\n",
       "    </tr>\n",
       "  </tbody>\n",
       "</table>\n",
       "<p>416 rows × 4 columns</p>\n",
       "</div>"
      ],
      "text/plain": [
       "      ID State          State  Year  Population\n",
       "0    04000US01        Alabama  2020     4893186\n",
       "1    04000US02         Alaska  2020      736990\n",
       "2    04000US04        Arizona  2020     7174064\n",
       "3    04000US05       Arkansas  2020     3011873\n",
       "4    04000US06     California  2020    39346023\n",
       "..         ...            ...   ...         ...\n",
       "411  04000US53     Washington  2013     6819579\n",
       "412  04000US54  West Virginia  2013     1853619\n",
       "413  04000US55      Wisconsin  2013     5706871\n",
       "414  04000US56        Wyoming  2013      570134\n",
       "415  04000US72    Puerto Rico  2013     3682966\n",
       "\n",
       "[416 rows x 4 columns]"
      ]
     },
     "execution_count": 17,
     "metadata": {},
     "output_type": "execute_result"
    }
   ],
   "source": [
    "df=df.drop(['ID Year','Slug State'], axis=1)\n",
    "df"
   ]
  },
  {
   "cell_type": "markdown",
   "metadata": {},
   "source": [
    "סעיף 5"
   ]
  },
  {
   "cell_type": "code",
   "execution_count": 21,
   "metadata": {},
   "outputs": [
    {
     "data": {
      "text/plain": [
       "26755210.333333332"
      ]
     },
     "execution_count": 21,
     "metadata": {},
     "output_type": "execute_result"
    }
   ],
   "source": [
    "df1=df[(df['State']=='Texas') & (df['Year']<=2018)]\n",
    "df1[\"Population\"].mean()"
   ]
  },
  {
   "cell_type": "markdown",
   "metadata": {},
   "source": [
    "סעיף 6"
   ]
  },
  {
   "cell_type": "code",
   "execution_count": 21,
   "metadata": {},
   "outputs": [
    {
     "data": {
      "text/plain": [
       "307    6985464\n",
       "Name: Population, dtype: int64"
      ]
     },
     "execution_count": 21,
     "metadata": {},
     "output_type": "execute_result"
    }
   ],
   "source": [
    "df2=df[(df['State']=='Washington') & (df['Year']==2015)]\n",
    "df2['Population']"
   ]
  },
  {
   "cell_type": "markdown",
   "metadata": {},
   "source": [
    "סעיף 7"
   ]
  },
  {
   "cell_type": "code",
   "execution_count": 22,
   "metadata": {},
   "outputs": [
    {
     "data": {
      "text/html": [
       "<div>\n",
       "<style scoped>\n",
       "    .dataframe tbody tr th:only-of-type {\n",
       "        vertical-align: middle;\n",
       "    }\n",
       "\n",
       "    .dataframe tbody tr th {\n",
       "        vertical-align: top;\n",
       "    }\n",
       "\n",
       "    .dataframe thead th {\n",
       "        text-align: right;\n",
       "    }\n",
       "</style>\n",
       "<table border=\"1\" class=\"dataframe\">\n",
       "  <thead>\n",
       "    <tr style=\"text-align: right;\">\n",
       "      <th></th>\n",
       "      <th>ID State</th>\n",
       "      <th>State</th>\n",
       "      <th>Year</th>\n",
       "      <th>Population</th>\n",
       "    </tr>\n",
       "  </thead>\n",
       "  <tbody>\n",
       "    <tr>\n",
       "      <th>4</th>\n",
       "      <td>04000US06</td>\n",
       "      <td>California</td>\n",
       "      <td>2020</td>\n",
       "      <td>39346023</td>\n",
       "    </tr>\n",
       "  </tbody>\n",
       "</table>\n",
       "</div>"
      ],
      "text/plain": [
       "    ID State       State  Year  Population\n",
       "4  04000US06  California  2020    39346023"
      ]
     },
     "execution_count": 22,
     "metadata": {},
     "output_type": "execute_result"
    }
   ],
   "source": [
    "max=df['Population'].max()\n",
    "df[df['Population']==max]"
   ]
  },
  {
   "cell_type": "markdown",
   "metadata": {},
   "source": [
    "סעיף 8"
   ]
  },
  {
   "cell_type": "code",
   "execution_count": 26,
   "metadata": {},
   "outputs": [
    {
     "data": {
      "text/plain": [
       "PearsonRResult(statistic=0.031415370357376626, pvalue=0.9411349248926103)"
      ]
     },
     "execution_count": 26,
     "metadata": {},
     "output_type": "execute_result"
    }
   ],
   "source": [
    "import scipy.stats\n",
    "from scipy.stats import pearsonr\n",
    "\n",
    "Wisconsin_pop=df[df['State']=='Wisconsin']['Population']\n",
    "New_York_pop=df[df['State']=='New York']['Population']\n",
    "scipy.stats.pearsonr(Wisconsin_pop, New_York_pop)\n",
    "\n"
   ]
  },
  {
   "cell_type": "markdown",
   "metadata": {},
   "source": [
    "סעיף 9"
   ]
  },
  {
   "cell_type": "code",
   "execution_count": 24,
   "metadata": {},
   "outputs": [
    {
     "data": {
      "text/html": [
       "<div>\n",
       "<style scoped>\n",
       "    .dataframe tbody tr th:only-of-type {\n",
       "        vertical-align: middle;\n",
       "    }\n",
       "\n",
       "    .dataframe tbody tr th {\n",
       "        vertical-align: top;\n",
       "    }\n",
       "\n",
       "    .dataframe thead th {\n",
       "        text-align: right;\n",
       "    }\n",
       "</style>\n",
       "<table border=\"1\" class=\"dataframe\">\n",
       "  <thead>\n",
       "    <tr style=\"text-align: right;\">\n",
       "      <th></th>\n",
       "      <th>ID State</th>\n",
       "      <th>State</th>\n",
       "      <th>Year</th>\n",
       "      <th>Population</th>\n",
       "    </tr>\n",
       "  </thead>\n",
       "  <tbody>\n",
       "    <tr>\n",
       "      <th>0</th>\n",
       "      <td>04000US01</td>\n",
       "      <td>Alabama</td>\n",
       "      <td>2020</td>\n",
       "      <td>4893186</td>\n",
       "    </tr>\n",
       "    <tr>\n",
       "      <th>1</th>\n",
       "      <td>04000US02</td>\n",
       "      <td>Alaska</td>\n",
       "      <td>2020</td>\n",
       "      <td>736990</td>\n",
       "    </tr>\n",
       "    <tr>\n",
       "      <th>2</th>\n",
       "      <td>04000US04</td>\n",
       "      <td>Arizona</td>\n",
       "      <td>2020</td>\n",
       "      <td>7174064</td>\n",
       "    </tr>\n",
       "    <tr>\n",
       "      <th>3</th>\n",
       "      <td>04000US05</td>\n",
       "      <td>Arkansas</td>\n",
       "      <td>2020</td>\n",
       "      <td>3011873</td>\n",
       "    </tr>\n",
       "    <tr>\n",
       "      <th>4</th>\n",
       "      <td>04000US06</td>\n",
       "      <td>California</td>\n",
       "      <td>2020</td>\n",
       "      <td>39346023</td>\n",
       "    </tr>\n",
       "    <tr>\n",
       "      <th>...</th>\n",
       "      <td>...</td>\n",
       "      <td>...</td>\n",
       "      <td>...</td>\n",
       "      <td>...</td>\n",
       "    </tr>\n",
       "    <tr>\n",
       "      <th>409</th>\n",
       "      <td>04000US50</td>\n",
       "      <td>Vermont</td>\n",
       "      <td>2013</td>\n",
       "      <td>625904</td>\n",
       "    </tr>\n",
       "    <tr>\n",
       "      <th>411</th>\n",
       "      <td>04000US53</td>\n",
       "      <td>Washington</td>\n",
       "      <td>2013</td>\n",
       "      <td>6819579</td>\n",
       "    </tr>\n",
       "    <tr>\n",
       "      <th>413</th>\n",
       "      <td>04000US55</td>\n",
       "      <td>Wisconsin</td>\n",
       "      <td>2013</td>\n",
       "      <td>5706871</td>\n",
       "    </tr>\n",
       "    <tr>\n",
       "      <th>414</th>\n",
       "      <td>04000US56</td>\n",
       "      <td>Wyoming</td>\n",
       "      <td>2013</td>\n",
       "      <td>570134</td>\n",
       "    </tr>\n",
       "    <tr>\n",
       "      <th>415</th>\n",
       "      <td>04000US72</td>\n",
       "      <td>Puerto Rico</td>\n",
       "      <td>2013</td>\n",
       "      <td>3682966</td>\n",
       "    </tr>\n",
       "  </tbody>\n",
       "</table>\n",
       "<p>400 rows × 4 columns</p>\n",
       "</div>"
      ],
      "text/plain": [
       "      ID State        State  Year  Population\n",
       "0    04000US01      Alabama  2020     4893186\n",
       "1    04000US02       Alaska  2020      736990\n",
       "2    04000US04      Arizona  2020     7174064\n",
       "3    04000US05     Arkansas  2020     3011873\n",
       "4    04000US06   California  2020    39346023\n",
       "..         ...          ...   ...         ...\n",
       "409  04000US50      Vermont  2013      625904\n",
       "411  04000US53   Washington  2013     6819579\n",
       "413  04000US55    Wisconsin  2013     5706871\n",
       "414  04000US56      Wyoming  2013      570134\n",
       "415  04000US72  Puerto Rico  2013     3682966\n",
       "\n",
       "[400 rows x 4 columns]"
      ]
     },
     "execution_count": 24,
     "metadata": {},
     "output_type": "execute_result"
    }
   ],
   "source": [
    "df.drop(df[df['State'].str.contains('Virginia')].index, inplace = True)\n",
    "df"
   ]
  },
  {
   "cell_type": "markdown",
   "metadata": {},
   "source": [
    "סעיף 10"
   ]
  },
  {
   "cell_type": "code",
   "execution_count": 25,
   "metadata": {},
   "outputs": [
    {
     "data": {
      "text/html": [
       "<div>\n",
       "<style scoped>\n",
       "    .dataframe tbody tr th:only-of-type {\n",
       "        vertical-align: middle;\n",
       "    }\n",
       "\n",
       "    .dataframe tbody tr th {\n",
       "        vertical-align: top;\n",
       "    }\n",
       "\n",
       "    .dataframe thead th {\n",
       "        text-align: right;\n",
       "    }\n",
       "</style>\n",
       "<table border=\"1\" class=\"dataframe\">\n",
       "  <thead>\n",
       "    <tr style=\"text-align: right;\">\n",
       "      <th></th>\n",
       "      <th>ID State</th>\n",
       "      <th>State</th>\n",
       "      <th>Year</th>\n",
       "      <th>Population</th>\n",
       "      <th>hex_Population</th>\n",
       "    </tr>\n",
       "  </thead>\n",
       "  <tbody>\n",
       "    <tr>\n",
       "      <th>0</th>\n",
       "      <td>04000US01</td>\n",
       "      <td>Alabama</td>\n",
       "      <td>2020</td>\n",
       "      <td>4893186</td>\n",
       "      <td>0x4aaa02</td>\n",
       "    </tr>\n",
       "    <tr>\n",
       "      <th>1</th>\n",
       "      <td>04000US02</td>\n",
       "      <td>Alaska</td>\n",
       "      <td>2020</td>\n",
       "      <td>736990</td>\n",
       "      <td>0xb3ede</td>\n",
       "    </tr>\n",
       "    <tr>\n",
       "      <th>2</th>\n",
       "      <td>04000US04</td>\n",
       "      <td>Arizona</td>\n",
       "      <td>2020</td>\n",
       "      <td>7174064</td>\n",
       "      <td>0x6d77b0</td>\n",
       "    </tr>\n",
       "    <tr>\n",
       "      <th>3</th>\n",
       "      <td>04000US05</td>\n",
       "      <td>Arkansas</td>\n",
       "      <td>2020</td>\n",
       "      <td>3011873</td>\n",
       "      <td>0x2df521</td>\n",
       "    </tr>\n",
       "    <tr>\n",
       "      <th>4</th>\n",
       "      <td>04000US06</td>\n",
       "      <td>California</td>\n",
       "      <td>2020</td>\n",
       "      <td>39346023</td>\n",
       "      <td>0x2585f67</td>\n",
       "    </tr>\n",
       "    <tr>\n",
       "      <th>...</th>\n",
       "      <td>...</td>\n",
       "      <td>...</td>\n",
       "      <td>...</td>\n",
       "      <td>...</td>\n",
       "      <td>...</td>\n",
       "    </tr>\n",
       "    <tr>\n",
       "      <th>409</th>\n",
       "      <td>04000US50</td>\n",
       "      <td>Vermont</td>\n",
       "      <td>2013</td>\n",
       "      <td>625904</td>\n",
       "      <td>0x98cf0</td>\n",
       "    </tr>\n",
       "    <tr>\n",
       "      <th>411</th>\n",
       "      <td>04000US53</td>\n",
       "      <td>Washington</td>\n",
       "      <td>2013</td>\n",
       "      <td>6819579</td>\n",
       "      <td>0x680efb</td>\n",
       "    </tr>\n",
       "    <tr>\n",
       "      <th>413</th>\n",
       "      <td>04000US55</td>\n",
       "      <td>Wisconsin</td>\n",
       "      <td>2013</td>\n",
       "      <td>5706871</td>\n",
       "      <td>0x571477</td>\n",
       "    </tr>\n",
       "    <tr>\n",
       "      <th>414</th>\n",
       "      <td>04000US56</td>\n",
       "      <td>Wyoming</td>\n",
       "      <td>2013</td>\n",
       "      <td>570134</td>\n",
       "      <td>0x8b316</td>\n",
       "    </tr>\n",
       "    <tr>\n",
       "      <th>415</th>\n",
       "      <td>04000US72</td>\n",
       "      <td>Puerto Rico</td>\n",
       "      <td>2013</td>\n",
       "      <td>3682966</td>\n",
       "      <td>0x383296</td>\n",
       "    </tr>\n",
       "  </tbody>\n",
       "</table>\n",
       "<p>400 rows × 5 columns</p>\n",
       "</div>"
      ],
      "text/plain": [
       "      ID State        State  Year  Population hex_Population\n",
       "0    04000US01      Alabama  2020     4893186       0x4aaa02\n",
       "1    04000US02       Alaska  2020      736990        0xb3ede\n",
       "2    04000US04      Arizona  2020     7174064       0x6d77b0\n",
       "3    04000US05     Arkansas  2020     3011873       0x2df521\n",
       "4    04000US06   California  2020    39346023      0x2585f67\n",
       "..         ...          ...   ...         ...            ...\n",
       "409  04000US50      Vermont  2013      625904        0x98cf0\n",
       "411  04000US53   Washington  2013     6819579       0x680efb\n",
       "413  04000US55    Wisconsin  2013     5706871       0x571477\n",
       "414  04000US56      Wyoming  2013      570134        0x8b316\n",
       "415  04000US72  Puerto Rico  2013     3682966       0x383296\n",
       "\n",
       "[400 rows x 5 columns]"
      ]
     },
     "execution_count": 25,
     "metadata": {},
     "output_type": "execute_result"
    }
   ],
   "source": [
    "df=df.assign(hex_Population=df['Population'].apply(hex))\n",
    "df\n"
   ]
  },
  {
   "cell_type": "markdown",
   "metadata": {},
   "source": [
    "סעיף 11"
   ]
  },
  {
   "cell_type": "code",
   "execution_count": 26,
   "metadata": {},
   "outputs": [],
   "source": [
    "import sqlite3\n",
    "conn = sqlite3.connect(\"task1.db\")\n"
   ]
  },
  {
   "cell_type": "code",
   "execution_count": 27,
   "metadata": {},
   "outputs": [
    {
     "data": {
      "text/plain": [
       "400"
      ]
     },
     "execution_count": 27,
     "metadata": {},
     "output_type": "execute_result"
    }
   ],
   "source": [
    "df.to_sql(name='States',con=conn,if_exists='append')"
   ]
  },
  {
   "cell_type": "code",
   "execution_count": 28,
   "metadata": {},
   "outputs": [
    {
     "data": {
      "text/plain": [
       "[(81, '04000US33', 'New Hampshire', 2019, 1348124, '0x14921c')]"
      ]
     },
     "execution_count": 28,
     "metadata": {},
     "output_type": "execute_result"
    }
   ],
   "source": [
    "conn.execute(\"SELECT * FROM States WHERE hex_Population='0x14921c'\").fetchall()\n"
   ]
  }
 ],
 "metadata": {
  "kernelspec": {
   "display_name": "Python 3.10.7 ('.venv': venv)",
   "language": "python",
   "name": "python3"
  },
  "language_info": {
   "codemirror_mode": {
    "name": "ipython",
    "version": 3
   },
   "file_extension": ".py",
   "mimetype": "text/x-python",
   "name": "python",
   "nbconvert_exporter": "python",
   "pygments_lexer": "ipython3",
   "version": "3.10.7 (v3.10.7:6cc6b13308, Sep  5 2022, 14:02:52) [Clang 13.0.0 (clang-1300.0.29.30)]"
  },
  "orig_nbformat": 4,
  "vscode": {
   "interpreter": {
    "hash": "d10b24dfb489614a4957c39bc9647ec7ae3b624bf2ecb32427ac8e99ec32c63d"
   }
  }
 },
 "nbformat": 4,
 "nbformat_minor": 2
}
